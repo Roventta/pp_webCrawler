{
 "cells": [
  {
   "cell_type": "code",
   "execution_count": 251,
   "id": "f814557d",
   "metadata": {},
   "outputs": [],
   "source": [
    "import requests\n",
    "import pandas as pd\n",
    "from bs4 import BeautifulSoup\n",
    "\n",
    "\n",
    "URL = \"https://dogsqueensland.org.au/clubs/affiliated-clubs/\"\n",
    "page = requests.get(URL)\n",
    "\n",
    "soup = BeautifulSoup(page.content, \"html.parser\")"
   ]
  },
  {
   "cell_type": "code",
   "execution_count": 252,
   "id": "3eb75743",
   "metadata": {},
   "outputs": [
    {
     "data": {
      "text/plain": [
       "'\\ndsl website\\'s fields are not well constructed, for one entry, its first child is name\\nits following child are random information, feature of one child is titled by its content, in \\nfollowing format: \\n\"Email: xxxx\"\\n\\nif the child contains contact information, then it will have two inner fields, \\none is contact name, one is phone number, in following format:\\n\"contact: Name Name, Phone: 0000000\"\\n\\neach child is seperated by a <br />\\n...\\n'"
      ]
     },
     "execution_count": 252,
     "metadata": {},
     "output_type": "execute_result"
    }
   ],
   "source": [
    "'''\n",
    "dsl website's fields are not well constructed, for one entry, its first child is name\n",
    "its following child are random information, feature of one child is titled by its content, in \n",
    "following format: \n",
    "\"Email: xxxx\"\n",
    "\n",
    "if the child contains contact information, then it will have two inner fields, \n",
    "one is contact name, one is phone number, in following format:\n",
    "\"contact: Name Name, Phone: 0000000\"\n",
    "\n",
    "each child is seperated by a <br />\n",
    "...\n",
    "'''"
   ]
  },
  {
   "cell_type": "code",
   "execution_count": 253,
   "id": "87becad0",
   "metadata": {},
   "outputs": [],
   "source": [
    "DFcolumn_index = {\n",
    "    \"Name\": 0,\n",
    "    \"Email\": 1,\n",
    "    \"Website\": 2,\n",
    "    \"Address\": 3,\n",
    "    \"PetTypes\": 4,\n",
    "    \"ContactName\": 5,\n",
    "    \"ContactPhone\": 6\n",
    "}\n",
    "\n",
    "def dql_cluster_first_entry(guide_word, soup):\n",
    "    if(guide_word == \"A\" or guide_word == \"B\"):\n",
    "        oneEle = soup.find(id = guide_word).parent.parent.next_sibling.next_sibling\n",
    "    if(guide_word != \"A\" and guide_word != \"B\"):\n",
    "        oneEle = soup.find(id = guide_word).parent.next_sibling.next_sibling\n",
    "        \n",
    "    for a in oneEle.find_all('a'):\n",
    "        a.unwrap()\n",
    "    return oneEle\n",
    "\n",
    "def dql_next_entry(ele):\n",
    "    return ele.next_sibling.next_sibling\n",
    "\n",
    "def dql_identify_insert(source_string, target):\n",
    "    ## parse the first word\n",
    "    identifier = \"\"\n",
    "    content = \"\"\n",
    "    i = 0\n",
    "    for char in source_string:\n",
    "        if(char == ':'):\n",
    "            content = source_string[i+1:];\n",
    "            break\n",
    "        if(char != ':'):\n",
    "            identifier += char;\n",
    "            i += 1;\n",
    "    ##print(identifier);\n",
    "    ##print(content);\n",
    "    ##which_col = DFcolumn_index[identifier]\n",
    "    ##target[which_col] = content\n",
    "    if(identifier == \"Contact\"):\n",
    "        phone_index = source_string.find(\"Phone:\")\n",
    "        which_col = DFcolumn_index[\"ContactName\"];\n",
    "        target[which_col] = source_string[0: phone_index]\n",
    "        if(phone_index != -1):\n",
    "            ##print(source_string[phone_index+6:])\n",
    "            which_col = DFcolumn_index[\"ContactPhone\"];\n",
    "            target[which_col] = source_string[phone_index+7:]\n",
    "    if(identifier != \"Contact\"):\n",
    "        which_col = DFcolumn_index[identifier]\n",
    "        target[which_col] = content\n",
    "    \n",
    "    return 0\n",
    "\n",
    "def dql_parse_one_ele(source_ele, target):\n",
    "    ## first element is always name\n",
    "    target[0] = source_ele.contents[0].contents[0];\n",
    "    \n",
    "    ## loop through following elements, generate source string at first\n",
    "    ss_i = 0;\n",
    "    source_string = \"\";\n",
    "    for i in range(2, len(source_ele)):\n",
    "        if source_ele.contents[i].name != \"br\":\n",
    "            source_string += str(source_ele.contents[i]);\n",
    "        if source_ele.contents[i].name == \"br\" or i == len(source_ele)-1:\n",
    "            dql_identify_insert(source_string, target);\n",
    "            ##print(source_string);\n",
    "            source_string = \"\";\n",
    "\n",
    "majorDF = pd.DataFrame(columns=list(DFcolumn_index.keys()))\n",
    "\n",
    "test = [\"NA\" for i in range(7)]\n"
   ]
  },
  {
   "cell_type": "code",
   "execution_count": 254,
   "id": "bb752bff",
   "metadata": {},
   "outputs": [
    {
     "data": {
      "text/html": [
       "<div>\n",
       "<style scoped>\n",
       "    .dataframe tbody tr th:only-of-type {\n",
       "        vertical-align: middle;\n",
       "    }\n",
       "\n",
       "    .dataframe tbody tr th {\n",
       "        vertical-align: top;\n",
       "    }\n",
       "\n",
       "    .dataframe thead th {\n",
       "        text-align: right;\n",
       "    }\n",
       "</style>\n",
       "<table border=\"1\" class=\"dataframe\">\n",
       "  <thead>\n",
       "    <tr style=\"text-align: right;\">\n",
       "      <th></th>\n",
       "      <th>Name</th>\n",
       "      <th>Email</th>\n",
       "      <th>Website</th>\n",
       "      <th>Address</th>\n",
       "      <th>PetTypes</th>\n",
       "      <th>ContactName</th>\n",
       "      <th>ContactPhone</th>\n",
       "    </tr>\n",
       "  </thead>\n",
       "  <tbody>\n",
       "    <tr>\n",
       "      <th>0</th>\n",
       "      <td>English Springer Spaniel Assoc of Qld (Breed/G...</td>\n",
       "      <td>cathatina63@outlook.com</td>\n",
       "      <td>NA</td>\n",
       "      <td>36 Arafura Cres, Tingalpa, 4173</td>\n",
       "      <td>NA</td>\n",
       "      <td>Contact: Miss C Williams.</td>\n",
       "      <td>0403 240 296</td>\n",
       "    </tr>\n",
       "  </tbody>\n",
       "</table>\n",
       "</div>"
      ],
      "text/plain": [
       "                                                Name  \\\n",
       "0  English Springer Spaniel Assoc of Qld (Breed/G...   \n",
       "\n",
       "                      Email Website                           Address  \\\n",
       "0   cathatina63@outlook.com      NA   36 Arafura Cres, Tingalpa, 4173   \n",
       "\n",
       "  PetTypes                 ContactName  ContactPhone  \n",
       "0       NA  Contact: Miss C Williams.   0403 240 296  "
      ]
     },
     "execution_count": 254,
     "metadata": {},
     "output_type": "execute_result"
    }
   ],
   "source": [
    "oneEle =dql_cluster_first_entry(\"E\", soup)\n",
    "dql_parse_one_ele(oneEle, test)\n",
    "##print(list(oneEle))\n",
    "##print(oneEle.contents[3])\n",
    "##dql_identify_feature(oneEle.contents[2], test)\n",
    "\n",
    "majorDF.loc[0] = test\n",
    "majorDF\n"
   ]
  }
 ],
 "metadata": {
  "kernelspec": {
   "display_name": "Python 3 (ipykernel)",
   "language": "python",
   "name": "python3"
  },
  "language_info": {
   "codemirror_mode": {
    "name": "ipython",
    "version": 3
   },
   "file_extension": ".py",
   "mimetype": "text/x-python",
   "name": "python",
   "nbconvert_exporter": "python",
   "pygments_lexer": "ipython3",
   "version": "3.9.12"
  }
 },
 "nbformat": 4,
 "nbformat_minor": 5
}
